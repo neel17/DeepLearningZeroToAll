{
  "nbformat": 4,
  "nbformat_minor": 0,
  "metadata": {
    "colab": {
      "name": "lab-01-basics.ipynb",
      "version": "0.3.2",
      "provenance": []
    },
    "kernelspec": {
      "display_name": "Python 3",
      "language": "python",
      "name": "python3"
    }
  },
  "cells": [
    {
      "metadata": {
        "id": "ctA0LuYtha-B",
        "colab_type": "text"
      },
      "cell_type": "markdown",
      "source": [
        "# Getting Started With TensorFlow\n",
        "https://www.tensorflow.org/get_started/get_started"
      ]
    },
    {
      "metadata": {
        "id": "x8y8NmV4ha-F",
        "colab_type": "text"
      },
      "cell_type": "markdown",
      "source": [
        "## Check TF version"
      ]
    },
    {
      "metadata": {
        "id": "nbsGoUFaha-H",
        "colab_type": "code",
        "colab": {
          "base_uri": "https://localhost:8080/",
          "height": 34
        },
        "outputId": "3bdc7c36-13f7-4132-ce8b-f89a19d766f9"
      },
      "cell_type": "code",
      "source": [
        "import tensorflow as tf\n",
        "tf.__version__"
      ],
      "execution_count": 1,
      "outputs": [
        {
          "output_type": "execute_result",
          "data": {
            "text/plain": [
              "'1.12.0'"
            ]
          },
          "metadata": {
            "tags": []
          },
          "execution_count": 1
        }
      ]
    },
    {
      "metadata": {
        "id": "q9UuRuvQha-T",
        "colab_type": "text"
      },
      "cell_type": "markdown",
      "source": [
        "## Hello TensorFlow!"
      ]
    },
    {
      "metadata": {
        "id": "3yDRsb6wha-V",
        "colab_type": "code",
        "colab": {
          "base_uri": "https://localhost:8080/",
          "height": 34
        },
        "outputId": "4b717263-7333-477f-de2d-7f6f3b46193c"
      },
      "cell_type": "code",
      "source": [
        "# Create a constant op\n",
        "# This op is added as a node to the default graph\n",
        "hello = tf.constant(\"Hello, TensorFlow!\")\n",
        "\n",
        "# start a TF session\n",
        "sess = tf.Session()\n",
        "\n",
        "# run the op and get result\n",
        "print(sess.run(hello))"
      ],
      "execution_count": 2,
      "outputs": [
        {
          "output_type": "stream",
          "text": [
            "b'Hello, TensorFlow!'\n"
          ],
          "name": "stdout"
        }
      ]
    },
    {
      "metadata": {
        "id": "3xXCKjUYha-c",
        "colab_type": "text"
      },
      "cell_type": "markdown",
      "source": [
        "## Tensors"
      ]
    },
    {
      "metadata": {
        "id": "fnPnlJe0ha-e",
        "colab_type": "code",
        "colab": {
          "base_uri": "https://localhost:8080/",
          "height": 34
        },
        "outputId": "5ad7ff59-0188-4196-db3b-0edb315c8cd3"
      },
      "cell_type": "code",
      "source": [
        "3 # a rank 0 tensor; this is a scalar with shape []\n",
        "[1. ,2., 3.] # a rank 1 tensor; this is a vector with shape [3]\n",
        "[[1., 2., 3.], [4., 5., 6.]] # a rank 2 tensor; a matrix with shape [2, 3]\n",
        "[[[1., 2., 3.]], [[7., 8., 9.]]] # a rank 3 tensor with shape [2, 1, 3]"
      ],
      "execution_count": 3,
      "outputs": [
        {
          "output_type": "execute_result",
          "data": {
            "text/plain": [
              "[[[1.0, 2.0, 3.0]], [[7.0, 8.0, 9.0]]]"
            ]
          },
          "metadata": {
            "tags": []
          },
          "execution_count": 3
        }
      ]
    },
    {
      "metadata": {
        "id": "dwxsUq31ha-l",
        "colab_type": "text"
      },
      "cell_type": "markdown",
      "source": [
        "## Computational Graph"
      ]
    },
    {
      "metadata": {
        "id": "d6QpIsTKha-m",
        "colab_type": "code",
        "colab": {}
      },
      "cell_type": "code",
      "source": [
        "node1 = tf.constant(3.0, tf.float32)\n",
        "node2 = tf.constant(4.0) # also tf.float32 implicitly\n",
        "node3 = tf.add(node1, node2)"
      ],
      "execution_count": 0,
      "outputs": []
    },
    {
      "metadata": {
        "scrolled": true,
        "id": "ZQEI5hMuha-s",
        "colab_type": "code",
        "colab": {
          "base_uri": "https://localhost:8080/",
          "height": 50
        },
        "outputId": "df9fabfb-4277-4175-c2bf-c29018b059c4"
      },
      "cell_type": "code",
      "source": [
        "print(\"node1:\", node1, \"node2:\", node2)\n",
        "print(\"node3: \", node3)"
      ],
      "execution_count": 5,
      "outputs": [
        {
          "output_type": "stream",
          "text": [
            "node1: Tensor(\"Const_1:0\", shape=(), dtype=float32) node2: Tensor(\"Const_2:0\", shape=(), dtype=float32)\n",
            "node3:  Tensor(\"Add:0\", shape=(), dtype=float32)\n"
          ],
          "name": "stdout"
        }
      ]
    },
    {
      "metadata": {
        "id": "syTrJKQWha-y",
        "colab_type": "text"
      },
      "cell_type": "markdown",
      "source": [
        "![Graph](https://www.tensorflow.org/images/getting_started_adder.png)"
      ]
    },
    {
      "metadata": {
        "scrolled": true,
        "id": "owOOfPskha-0",
        "colab_type": "code",
        "colab": {
          "base_uri": "https://localhost:8080/",
          "height": 50
        },
        "outputId": "bb49b8f7-3a52-4940-ff47-1a5bc53e8cec"
      },
      "cell_type": "code",
      "source": [
        "sess = tf.Session()\n",
        "print(\"sess.run(node1, node2): \", sess.run([node1, node2]))\n",
        "print(\"sess.run(node3): \", sess.run(node3))"
      ],
      "execution_count": 7,
      "outputs": [
        {
          "output_type": "stream",
          "text": [
            "sess.run(node1, node2):  [3.0, 4.0]\n",
            "sess.run(node3):  7.0\n"
          ],
          "name": "stdout"
        }
      ]
    },
    {
      "metadata": {
        "id": "5N5FGYsBha-6",
        "colab_type": "code",
        "colab": {
          "base_uri": "https://localhost:8080/",
          "height": 50
        },
        "outputId": "5754889b-1bc1-4fb4-b101-4b305a2186ab"
      },
      "cell_type": "code",
      "source": [
        "a = tf.placeholder(tf.float32)\n",
        "b = tf.placeholder(tf.float32)\n",
        "adder_node = a + b  # + provides a shortcut for tf.add(a, b)\n",
        "\n",
        "print(sess.run(adder_node, feed_dict={a: 3, b: 4.5}))\n",
        "print(sess.run(adder_node, feed_dict={a: [1,3], b: [2, 4]}))"
      ],
      "execution_count": 8,
      "outputs": [
        {
          "output_type": "stream",
          "text": [
            "7.5\n",
            "[3. 7.]\n"
          ],
          "name": "stdout"
        }
      ]
    },
    {
      "metadata": {
        "id": "u4P12owSha_B",
        "colab_type": "code",
        "colab": {},
        "outputId": "1ad71018-6fbd-443b-fd9b-1401b5a6fe01"
      },
      "cell_type": "code",
      "source": [
        "add_and_triple = adder_node * 3.\n",
        "print(sess.run(add_and_triple, feed_dict={a: 3, b:4.5}))"
      ],
      "execution_count": 0,
      "outputs": [
        {
          "output_type": "stream",
          "text": [
            "22.5\n"
          ],
          "name": "stdout"
        }
      ]
    }
  ]
}